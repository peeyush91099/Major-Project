{
  "nbformat": 4,
  "nbformat_minor": 0,
  "metadata": {
    "colab": {
      "name": "covid-19.ipynb",
      "provenance": [],
      "mount_file_id": "1i3YW2Jycj6MRzzYQTnpLnEFRIVsIJZEN",
      "authorship_tag": "ABX9TyMUR3k7/jFA4+Xb7SAvp+od",
      "include_colab_link": true
    },
    "kernelspec": {
      "name": "python3",
      "display_name": "Python 3"
    }
  },
  "cells": [
    {
      "cell_type": "markdown",
      "metadata": {
        "id": "view-in-github",
        "colab_type": "text"
      },
      "source": [
        "<a href=\"https://colab.research.google.com/github/peeyush91099/Major-Project/blob/main/covid_19.ipynb\" target=\"_parent\"><img src=\"https://colab.research.google.com/assets/colab-badge.svg\" alt=\"Open In Colab\"/></a>"
      ]
    },
    {
      "cell_type": "code",
      "metadata": {
        "id": "1_4jjnfNMLMu",
        "colab": {
          "base_uri": "https://localhost:8080/",
          "height": 586
        },
        "outputId": "c6c9950a-029d-41c4-d7a1-289f2e9dfb75"
      },
      "source": [
        "import pandas as pd\r\n",
        "df = pd.read_csv('/content/drive/MyDrive/complete.csv')\r\n",
        "df"
      ],
      "execution_count": 1,
      "outputs": [
        {
          "output_type": "execute_result",
          "data": {
            "text/html": [
              "<div>\n",
              "<style scoped>\n",
              "    .dataframe tbody tr th:only-of-type {\n",
              "        vertical-align: middle;\n",
              "    }\n",
              "\n",
              "    .dataframe tbody tr th {\n",
              "        vertical-align: top;\n",
              "    }\n",
              "\n",
              "    .dataframe thead th {\n",
              "        text-align: right;\n",
              "    }\n",
              "</style>\n",
              "<table border=\"1\" class=\"dataframe\">\n",
              "  <thead>\n",
              "    <tr style=\"text-align: right;\">\n",
              "      <th></th>\n",
              "      <th>Date</th>\n",
              "      <th>Name of State / UT</th>\n",
              "      <th>Latitude</th>\n",
              "      <th>Longitude</th>\n",
              "      <th>Total Confirmed cases</th>\n",
              "      <th>Death</th>\n",
              "      <th>Cured/Discharged/Migrated</th>\n",
              "      <th>New cases</th>\n",
              "      <th>New deaths</th>\n",
              "      <th>New recovered</th>\n",
              "    </tr>\n",
              "  </thead>\n",
              "  <tbody>\n",
              "    <tr>\n",
              "      <th>0</th>\n",
              "      <td>2020-01-30</td>\n",
              "      <td>Kerala</td>\n",
              "      <td>10.8505</td>\n",
              "      <td>76.2711</td>\n",
              "      <td>1.0</td>\n",
              "      <td>0</td>\n",
              "      <td>0.0</td>\n",
              "      <td>0</td>\n",
              "      <td>0</td>\n",
              "      <td>0</td>\n",
              "    </tr>\n",
              "    <tr>\n",
              "      <th>1</th>\n",
              "      <td>2020-01-31</td>\n",
              "      <td>Kerala</td>\n",
              "      <td>10.8505</td>\n",
              "      <td>76.2711</td>\n",
              "      <td>1.0</td>\n",
              "      <td>0</td>\n",
              "      <td>0.0</td>\n",
              "      <td>0</td>\n",
              "      <td>0</td>\n",
              "      <td>0</td>\n",
              "    </tr>\n",
              "    <tr>\n",
              "      <th>2</th>\n",
              "      <td>2020-02-01</td>\n",
              "      <td>Kerala</td>\n",
              "      <td>10.8505</td>\n",
              "      <td>76.2711</td>\n",
              "      <td>2.0</td>\n",
              "      <td>0</td>\n",
              "      <td>0.0</td>\n",
              "      <td>1</td>\n",
              "      <td>0</td>\n",
              "      <td>0</td>\n",
              "    </tr>\n",
              "    <tr>\n",
              "      <th>3</th>\n",
              "      <td>2020-02-02</td>\n",
              "      <td>Kerala</td>\n",
              "      <td>10.8505</td>\n",
              "      <td>76.2711</td>\n",
              "      <td>3.0</td>\n",
              "      <td>0</td>\n",
              "      <td>0.0</td>\n",
              "      <td>1</td>\n",
              "      <td>0</td>\n",
              "      <td>0</td>\n",
              "    </tr>\n",
              "    <tr>\n",
              "      <th>4</th>\n",
              "      <td>2020-02-03</td>\n",
              "      <td>Kerala</td>\n",
              "      <td>10.8505</td>\n",
              "      <td>76.2711</td>\n",
              "      <td>3.0</td>\n",
              "      <td>0</td>\n",
              "      <td>0.0</td>\n",
              "      <td>0</td>\n",
              "      <td>0</td>\n",
              "      <td>0</td>\n",
              "    </tr>\n",
              "    <tr>\n",
              "      <th>...</th>\n",
              "      <td>...</td>\n",
              "      <td>...</td>\n",
              "      <td>...</td>\n",
              "      <td>...</td>\n",
              "      <td>...</td>\n",
              "      <td>...</td>\n",
              "      <td>...</td>\n",
              "      <td>...</td>\n",
              "      <td>...</td>\n",
              "      <td>...</td>\n",
              "    </tr>\n",
              "    <tr>\n",
              "      <th>4687</th>\n",
              "      <td>2020-08-06</td>\n",
              "      <td>Telangana</td>\n",
              "      <td>18.1124</td>\n",
              "      <td>79.0193</td>\n",
              "      <td>73050.0</td>\n",
              "      <td>589</td>\n",
              "      <td>52103.0</td>\n",
              "      <td>2092</td>\n",
              "      <td>0</td>\n",
              "      <td>1289</td>\n",
              "    </tr>\n",
              "    <tr>\n",
              "      <th>4688</th>\n",
              "      <td>2020-08-06</td>\n",
              "      <td>Tripura</td>\n",
              "      <td>23.9408</td>\n",
              "      <td>91.9882</td>\n",
              "      <td>5725.0</td>\n",
              "      <td>31</td>\n",
              "      <td>3793.0</td>\n",
              "      <td>97</td>\n",
              "      <td>0</td>\n",
              "      <td>68</td>\n",
              "    </tr>\n",
              "    <tr>\n",
              "      <th>4689</th>\n",
              "      <td>2020-08-06</td>\n",
              "      <td>Uttar Pradesh</td>\n",
              "      <td>26.8467</td>\n",
              "      <td>80.9462</td>\n",
              "      <td>104388.0</td>\n",
              "      <td>1857</td>\n",
              "      <td>60558.0</td>\n",
              "      <td>4078</td>\n",
              "      <td>0</td>\n",
              "      <td>3287</td>\n",
              "    </tr>\n",
              "    <tr>\n",
              "      <th>4690</th>\n",
              "      <td>2020-08-06</td>\n",
              "      <td>Uttarakhand</td>\n",
              "      <td>30.0668</td>\n",
              "      <td>79.0193</td>\n",
              "      <td>8254.0</td>\n",
              "      <td>98</td>\n",
              "      <td>5233.0</td>\n",
              "      <td>246</td>\n",
              "      <td>0</td>\n",
              "      <td>386</td>\n",
              "    </tr>\n",
              "    <tr>\n",
              "      <th>4691</th>\n",
              "      <td>2020-08-06</td>\n",
              "      <td>West Bengal</td>\n",
              "      <td>22.9868</td>\n",
              "      <td>87.8550</td>\n",
              "      <td>83800.0</td>\n",
              "      <td>1846</td>\n",
              "      <td>58962.0</td>\n",
              "      <td>2816</td>\n",
              "      <td>0</td>\n",
              "      <td>2078</td>\n",
              "    </tr>\n",
              "  </tbody>\n",
              "</table>\n",
              "<p>4692 rows × 10 columns</p>\n",
              "</div>"
            ],
            "text/plain": [
              "            Date Name of State / UT  ...  New deaths  New recovered\n",
              "0     2020-01-30             Kerala  ...           0              0\n",
              "1     2020-01-31             Kerala  ...           0              0\n",
              "2     2020-02-01             Kerala  ...           0              0\n",
              "3     2020-02-02             Kerala  ...           0              0\n",
              "4     2020-02-03             Kerala  ...           0              0\n",
              "...          ...                ...  ...         ...            ...\n",
              "4687  2020-08-06          Telangana  ...           0           1289\n",
              "4688  2020-08-06            Tripura  ...           0             68\n",
              "4689  2020-08-06      Uttar Pradesh  ...           0           3287\n",
              "4690  2020-08-06        Uttarakhand  ...           0            386\n",
              "4691  2020-08-06        West Bengal  ...           0           2078\n",
              "\n",
              "[4692 rows x 10 columns]"
            ]
          },
          "metadata": {
            "tags": []
          },
          "execution_count": 1
        }
      ]
    },
    {
      "cell_type": "code",
      "metadata": {
        "colab": {
          "base_uri": "https://localhost:8080/"
        },
        "id": "0isjsSeTUhmv",
        "outputId": "a345a3e7-91eb-47a5-fdf1-e14547c52afe"
      },
      "source": [
        "df.isnull().sum()"
      ],
      "execution_count": 2,
      "outputs": [
        {
          "output_type": "execute_result",
          "data": {
            "text/plain": [
              "Date                         0\n",
              "Name of State / UT           0\n",
              "Latitude                     0\n",
              "Longitude                    0\n",
              "Total Confirmed cases        0\n",
              "Death                        0\n",
              "Cured/Discharged/Migrated    0\n",
              "New cases                    0\n",
              "New deaths                   0\n",
              "New recovered                0\n",
              "dtype: int64"
            ]
          },
          "metadata": {
            "tags": []
          },
          "execution_count": 2
        }
      ]
    },
    {
      "cell_type": "code",
      "metadata": {
        "colab": {
          "base_uri": "https://localhost:8080/",
          "height": 586
        },
        "id": "0-QEnXCXV834",
        "outputId": "e849456e-0ce8-494e-b62c-1d51f8c58b91"
      },
      "source": [
        "df.dropna()"
      ],
      "execution_count": 3,
      "outputs": [
        {
          "output_type": "execute_result",
          "data": {
            "text/html": [
              "<div>\n",
              "<style scoped>\n",
              "    .dataframe tbody tr th:only-of-type {\n",
              "        vertical-align: middle;\n",
              "    }\n",
              "\n",
              "    .dataframe tbody tr th {\n",
              "        vertical-align: top;\n",
              "    }\n",
              "\n",
              "    .dataframe thead th {\n",
              "        text-align: right;\n",
              "    }\n",
              "</style>\n",
              "<table border=\"1\" class=\"dataframe\">\n",
              "  <thead>\n",
              "    <tr style=\"text-align: right;\">\n",
              "      <th></th>\n",
              "      <th>Date</th>\n",
              "      <th>Name of State / UT</th>\n",
              "      <th>Latitude</th>\n",
              "      <th>Longitude</th>\n",
              "      <th>Total Confirmed cases</th>\n",
              "      <th>Death</th>\n",
              "      <th>Cured/Discharged/Migrated</th>\n",
              "      <th>New cases</th>\n",
              "      <th>New deaths</th>\n",
              "      <th>New recovered</th>\n",
              "    </tr>\n",
              "  </thead>\n",
              "  <tbody>\n",
              "    <tr>\n",
              "      <th>0</th>\n",
              "      <td>2020-01-30</td>\n",
              "      <td>Kerala</td>\n",
              "      <td>10.8505</td>\n",
              "      <td>76.2711</td>\n",
              "      <td>1.0</td>\n",
              "      <td>0</td>\n",
              "      <td>0.0</td>\n",
              "      <td>0</td>\n",
              "      <td>0</td>\n",
              "      <td>0</td>\n",
              "    </tr>\n",
              "    <tr>\n",
              "      <th>1</th>\n",
              "      <td>2020-01-31</td>\n",
              "      <td>Kerala</td>\n",
              "      <td>10.8505</td>\n",
              "      <td>76.2711</td>\n",
              "      <td>1.0</td>\n",
              "      <td>0</td>\n",
              "      <td>0.0</td>\n",
              "      <td>0</td>\n",
              "      <td>0</td>\n",
              "      <td>0</td>\n",
              "    </tr>\n",
              "    <tr>\n",
              "      <th>2</th>\n",
              "      <td>2020-02-01</td>\n",
              "      <td>Kerala</td>\n",
              "      <td>10.8505</td>\n",
              "      <td>76.2711</td>\n",
              "      <td>2.0</td>\n",
              "      <td>0</td>\n",
              "      <td>0.0</td>\n",
              "      <td>1</td>\n",
              "      <td>0</td>\n",
              "      <td>0</td>\n",
              "    </tr>\n",
              "    <tr>\n",
              "      <th>3</th>\n",
              "      <td>2020-02-02</td>\n",
              "      <td>Kerala</td>\n",
              "      <td>10.8505</td>\n",
              "      <td>76.2711</td>\n",
              "      <td>3.0</td>\n",
              "      <td>0</td>\n",
              "      <td>0.0</td>\n",
              "      <td>1</td>\n",
              "      <td>0</td>\n",
              "      <td>0</td>\n",
              "    </tr>\n",
              "    <tr>\n",
              "      <th>4</th>\n",
              "      <td>2020-02-03</td>\n",
              "      <td>Kerala</td>\n",
              "      <td>10.8505</td>\n",
              "      <td>76.2711</td>\n",
              "      <td>3.0</td>\n",
              "      <td>0</td>\n",
              "      <td>0.0</td>\n",
              "      <td>0</td>\n",
              "      <td>0</td>\n",
              "      <td>0</td>\n",
              "    </tr>\n",
              "    <tr>\n",
              "      <th>...</th>\n",
              "      <td>...</td>\n",
              "      <td>...</td>\n",
              "      <td>...</td>\n",
              "      <td>...</td>\n",
              "      <td>...</td>\n",
              "      <td>...</td>\n",
              "      <td>...</td>\n",
              "      <td>...</td>\n",
              "      <td>...</td>\n",
              "      <td>...</td>\n",
              "    </tr>\n",
              "    <tr>\n",
              "      <th>4687</th>\n",
              "      <td>2020-08-06</td>\n",
              "      <td>Telangana</td>\n",
              "      <td>18.1124</td>\n",
              "      <td>79.0193</td>\n",
              "      <td>73050.0</td>\n",
              "      <td>589</td>\n",
              "      <td>52103.0</td>\n",
              "      <td>2092</td>\n",
              "      <td>0</td>\n",
              "      <td>1289</td>\n",
              "    </tr>\n",
              "    <tr>\n",
              "      <th>4688</th>\n",
              "      <td>2020-08-06</td>\n",
              "      <td>Tripura</td>\n",
              "      <td>23.9408</td>\n",
              "      <td>91.9882</td>\n",
              "      <td>5725.0</td>\n",
              "      <td>31</td>\n",
              "      <td>3793.0</td>\n",
              "      <td>97</td>\n",
              "      <td>0</td>\n",
              "      <td>68</td>\n",
              "    </tr>\n",
              "    <tr>\n",
              "      <th>4689</th>\n",
              "      <td>2020-08-06</td>\n",
              "      <td>Uttar Pradesh</td>\n",
              "      <td>26.8467</td>\n",
              "      <td>80.9462</td>\n",
              "      <td>104388.0</td>\n",
              "      <td>1857</td>\n",
              "      <td>60558.0</td>\n",
              "      <td>4078</td>\n",
              "      <td>0</td>\n",
              "      <td>3287</td>\n",
              "    </tr>\n",
              "    <tr>\n",
              "      <th>4690</th>\n",
              "      <td>2020-08-06</td>\n",
              "      <td>Uttarakhand</td>\n",
              "      <td>30.0668</td>\n",
              "      <td>79.0193</td>\n",
              "      <td>8254.0</td>\n",
              "      <td>98</td>\n",
              "      <td>5233.0</td>\n",
              "      <td>246</td>\n",
              "      <td>0</td>\n",
              "      <td>386</td>\n",
              "    </tr>\n",
              "    <tr>\n",
              "      <th>4691</th>\n",
              "      <td>2020-08-06</td>\n",
              "      <td>West Bengal</td>\n",
              "      <td>22.9868</td>\n",
              "      <td>87.8550</td>\n",
              "      <td>83800.0</td>\n",
              "      <td>1846</td>\n",
              "      <td>58962.0</td>\n",
              "      <td>2816</td>\n",
              "      <td>0</td>\n",
              "      <td>2078</td>\n",
              "    </tr>\n",
              "  </tbody>\n",
              "</table>\n",
              "<p>4692 rows × 10 columns</p>\n",
              "</div>"
            ],
            "text/plain": [
              "            Date Name of State / UT  ...  New deaths  New recovered\n",
              "0     2020-01-30             Kerala  ...           0              0\n",
              "1     2020-01-31             Kerala  ...           0              0\n",
              "2     2020-02-01             Kerala  ...           0              0\n",
              "3     2020-02-02             Kerala  ...           0              0\n",
              "4     2020-02-03             Kerala  ...           0              0\n",
              "...          ...                ...  ...         ...            ...\n",
              "4687  2020-08-06          Telangana  ...           0           1289\n",
              "4688  2020-08-06            Tripura  ...           0             68\n",
              "4689  2020-08-06      Uttar Pradesh  ...           0           3287\n",
              "4690  2020-08-06        Uttarakhand  ...           0            386\n",
              "4691  2020-08-06        West Bengal  ...           0           2078\n",
              "\n",
              "[4692 rows x 10 columns]"
            ]
          },
          "metadata": {
            "tags": []
          },
          "execution_count": 3
        }
      ]
    },
    {
      "cell_type": "code",
      "metadata": {
        "colab": {
          "base_uri": "https://localhost:8080/",
          "height": 586
        },
        "id": "o6B1D48YWK4y",
        "outputId": "b0a6f9be-caaa-4625-fb42-952b1fb1ddea"
      },
      "source": [
        "df.rename(columns = {'New cases' : 'y','Date':'ds'},inplace = True)\r\n",
        "df"
      ],
      "execution_count": 5,
      "outputs": [
        {
          "output_type": "execute_result",
          "data": {
            "text/html": [
              "<div>\n",
              "<style scoped>\n",
              "    .dataframe tbody tr th:only-of-type {\n",
              "        vertical-align: middle;\n",
              "    }\n",
              "\n",
              "    .dataframe tbody tr th {\n",
              "        vertical-align: top;\n",
              "    }\n",
              "\n",
              "    .dataframe thead th {\n",
              "        text-align: right;\n",
              "    }\n",
              "</style>\n",
              "<table border=\"1\" class=\"dataframe\">\n",
              "  <thead>\n",
              "    <tr style=\"text-align: right;\">\n",
              "      <th></th>\n",
              "      <th>ds</th>\n",
              "      <th>Name of State / UT</th>\n",
              "      <th>Latitude</th>\n",
              "      <th>Longitude</th>\n",
              "      <th>Total Confirmed cases</th>\n",
              "      <th>Death</th>\n",
              "      <th>Cured/Discharged/Migrated</th>\n",
              "      <th>y</th>\n",
              "      <th>New deaths</th>\n",
              "      <th>New recovered</th>\n",
              "    </tr>\n",
              "  </thead>\n",
              "  <tbody>\n",
              "    <tr>\n",
              "      <th>0</th>\n",
              "      <td>2020-01-30</td>\n",
              "      <td>Kerala</td>\n",
              "      <td>10.8505</td>\n",
              "      <td>76.2711</td>\n",
              "      <td>1.0</td>\n",
              "      <td>0</td>\n",
              "      <td>0.0</td>\n",
              "      <td>0</td>\n",
              "      <td>0</td>\n",
              "      <td>0</td>\n",
              "    </tr>\n",
              "    <tr>\n",
              "      <th>1</th>\n",
              "      <td>2020-01-31</td>\n",
              "      <td>Kerala</td>\n",
              "      <td>10.8505</td>\n",
              "      <td>76.2711</td>\n",
              "      <td>1.0</td>\n",
              "      <td>0</td>\n",
              "      <td>0.0</td>\n",
              "      <td>0</td>\n",
              "      <td>0</td>\n",
              "      <td>0</td>\n",
              "    </tr>\n",
              "    <tr>\n",
              "      <th>2</th>\n",
              "      <td>2020-02-01</td>\n",
              "      <td>Kerala</td>\n",
              "      <td>10.8505</td>\n",
              "      <td>76.2711</td>\n",
              "      <td>2.0</td>\n",
              "      <td>0</td>\n",
              "      <td>0.0</td>\n",
              "      <td>1</td>\n",
              "      <td>0</td>\n",
              "      <td>0</td>\n",
              "    </tr>\n",
              "    <tr>\n",
              "      <th>3</th>\n",
              "      <td>2020-02-02</td>\n",
              "      <td>Kerala</td>\n",
              "      <td>10.8505</td>\n",
              "      <td>76.2711</td>\n",
              "      <td>3.0</td>\n",
              "      <td>0</td>\n",
              "      <td>0.0</td>\n",
              "      <td>1</td>\n",
              "      <td>0</td>\n",
              "      <td>0</td>\n",
              "    </tr>\n",
              "    <tr>\n",
              "      <th>4</th>\n",
              "      <td>2020-02-03</td>\n",
              "      <td>Kerala</td>\n",
              "      <td>10.8505</td>\n",
              "      <td>76.2711</td>\n",
              "      <td>3.0</td>\n",
              "      <td>0</td>\n",
              "      <td>0.0</td>\n",
              "      <td>0</td>\n",
              "      <td>0</td>\n",
              "      <td>0</td>\n",
              "    </tr>\n",
              "    <tr>\n",
              "      <th>...</th>\n",
              "      <td>...</td>\n",
              "      <td>...</td>\n",
              "      <td>...</td>\n",
              "      <td>...</td>\n",
              "      <td>...</td>\n",
              "      <td>...</td>\n",
              "      <td>...</td>\n",
              "      <td>...</td>\n",
              "      <td>...</td>\n",
              "      <td>...</td>\n",
              "    </tr>\n",
              "    <tr>\n",
              "      <th>4687</th>\n",
              "      <td>2020-08-06</td>\n",
              "      <td>Telangana</td>\n",
              "      <td>18.1124</td>\n",
              "      <td>79.0193</td>\n",
              "      <td>73050.0</td>\n",
              "      <td>589</td>\n",
              "      <td>52103.0</td>\n",
              "      <td>2092</td>\n",
              "      <td>0</td>\n",
              "      <td>1289</td>\n",
              "    </tr>\n",
              "    <tr>\n",
              "      <th>4688</th>\n",
              "      <td>2020-08-06</td>\n",
              "      <td>Tripura</td>\n",
              "      <td>23.9408</td>\n",
              "      <td>91.9882</td>\n",
              "      <td>5725.0</td>\n",
              "      <td>31</td>\n",
              "      <td>3793.0</td>\n",
              "      <td>97</td>\n",
              "      <td>0</td>\n",
              "      <td>68</td>\n",
              "    </tr>\n",
              "    <tr>\n",
              "      <th>4689</th>\n",
              "      <td>2020-08-06</td>\n",
              "      <td>Uttar Pradesh</td>\n",
              "      <td>26.8467</td>\n",
              "      <td>80.9462</td>\n",
              "      <td>104388.0</td>\n",
              "      <td>1857</td>\n",
              "      <td>60558.0</td>\n",
              "      <td>4078</td>\n",
              "      <td>0</td>\n",
              "      <td>3287</td>\n",
              "    </tr>\n",
              "    <tr>\n",
              "      <th>4690</th>\n",
              "      <td>2020-08-06</td>\n",
              "      <td>Uttarakhand</td>\n",
              "      <td>30.0668</td>\n",
              "      <td>79.0193</td>\n",
              "      <td>8254.0</td>\n",
              "      <td>98</td>\n",
              "      <td>5233.0</td>\n",
              "      <td>246</td>\n",
              "      <td>0</td>\n",
              "      <td>386</td>\n",
              "    </tr>\n",
              "    <tr>\n",
              "      <th>4691</th>\n",
              "      <td>2020-08-06</td>\n",
              "      <td>West Bengal</td>\n",
              "      <td>22.9868</td>\n",
              "      <td>87.8550</td>\n",
              "      <td>83800.0</td>\n",
              "      <td>1846</td>\n",
              "      <td>58962.0</td>\n",
              "      <td>2816</td>\n",
              "      <td>0</td>\n",
              "      <td>2078</td>\n",
              "    </tr>\n",
              "  </tbody>\n",
              "</table>\n",
              "<p>4692 rows × 10 columns</p>\n",
              "</div>"
            ],
            "text/plain": [
              "              ds Name of State / UT  Latitude  ...     y  New deaths New recovered\n",
              "0     2020-01-30             Kerala   10.8505  ...     0           0             0\n",
              "1     2020-01-31             Kerala   10.8505  ...     0           0             0\n",
              "2     2020-02-01             Kerala   10.8505  ...     1           0             0\n",
              "3     2020-02-02             Kerala   10.8505  ...     1           0             0\n",
              "4     2020-02-03             Kerala   10.8505  ...     0           0             0\n",
              "...          ...                ...       ...  ...   ...         ...           ...\n",
              "4687  2020-08-06          Telangana   18.1124  ...  2092           0          1289\n",
              "4688  2020-08-06            Tripura   23.9408  ...    97           0            68\n",
              "4689  2020-08-06      Uttar Pradesh   26.8467  ...  4078           0          3287\n",
              "4690  2020-08-06        Uttarakhand   30.0668  ...   246           0           386\n",
              "4691  2020-08-06        West Bengal   22.9868  ...  2816           0          2078\n",
              "\n",
              "[4692 rows x 10 columns]"
            ]
          },
          "metadata": {
            "tags": []
          },
          "execution_count": 5
        }
      ]
    },
    {
      "cell_type": "code",
      "metadata": {
        "colab": {
          "base_uri": "https://localhost:8080/"
        },
        "id": "vnsnlbYSa9Ja",
        "outputId": "208f4a87-dc05-4ed1-9e68-9938b197484e"
      },
      "source": [
        "df['Name of State / UT'].value_counts()"
      ],
      "execution_count": 15,
      "outputs": [
        {
          "output_type": "execute_result",
          "data": {
            "text/plain": [
              "Kerala                                      186\n",
              "Delhi                                       154\n",
              "Rajasthan                                   152\n",
              "Haryana                                     152\n",
              "Uttar Pradesh                               152\n",
              "Tamil Nadu                                  149\n",
              "Punjab                                      147\n",
              "Maharashtra                                 147\n",
              "Karnataka                                   147\n",
              "Andhra Pradesh                              144\n",
              "Uttarakhand                                 141\n",
              "Odisha                                      140\n",
              "Puducherry                                  138\n",
              "Chhattisgarh                                137\n",
              "Gujarat                                     136\n",
              "Ladakh                                      135\n",
              "Jammu and Kashmir                           135\n",
              "Madhya Pradesh                              135\n",
              "Chandigarh                                  135\n",
              "Himachal Pradesh                            135\n",
              "Bihar                                       134\n",
              "Manipur                                     132\n",
              "Mizoram                                     131\n",
              "Andaman and Nicobar Islands                 130\n",
              "Goa                                         130\n",
              "West Bengal                                 128\n",
              "Assam                                       124\n",
              "Jharkhand                                   124\n",
              "Arunachal Pradesh                           122\n",
              "Tripura                                     118\n",
              "Meghalaya                                   111\n",
              "Telengana                                   102\n",
              "Dadra and Nagar Haveli and Daman and Diu     89\n",
              "Sikkim                                       71\n",
              "Nagaland                                     69\n",
              "Telangana                                    51\n",
              "Union Territory of Ladakh                    14\n",
              "Union Territory of Jammu and Kashmir         12\n",
              "Union Territory of Chandigarh                 2\n",
              "Telangana***                                  1\n",
              "Name: Name of State / UT, dtype: int64"
            ]
          },
          "metadata": {
            "tags": []
          },
          "execution_count": 15
        }
      ]
    },
    {
      "cell_type": "code",
      "metadata": {
        "colab": {
          "base_uri": "https://localhost:8080/",
          "height": 128
        },
        "id": "DwJogNSldYtw",
        "outputId": "180f6945-6196-4f48-c3d0-29d0b2b1c5ee"
      },
      "source": [
        "df.loc["
      ],
      "execution_count": 17,
      "outputs": [
        {
          "output_type": "error",
          "ename": "SyntaxError",
          "evalue": "ignored",
          "traceback": [
            "\u001b[0;36m  File \u001b[0;32m\"<ipython-input-17-46ef208389b0>\"\u001b[0;36m, line \u001b[0;32m1\u001b[0m\n\u001b[0;31m    df.loc[Name of State / UT,'Kerala']\u001b[0m\n\u001b[0m                 ^\u001b[0m\n\u001b[0;31mSyntaxError\u001b[0m\u001b[0;31m:\u001b[0m invalid syntax\n"
          ]
        }
      ]
    },
    {
      "cell_type": "code",
      "metadata": {
        "colab": {
          "base_uri": "https://localhost:8080/",
          "height": 402
        },
        "id": "dvWmDwENWoPL",
        "outputId": "3a777209-5a94-4976-d410-b316f5d6cbd4"
      },
      "source": [
        "df_new = df[['ds','y']]\r\n",
        "df_new"
      ],
      "execution_count": 9,
      "outputs": [
        {
          "output_type": "execute_result",
          "data": {
            "text/html": [
              "<div>\n",
              "<style scoped>\n",
              "    .dataframe tbody tr th:only-of-type {\n",
              "        vertical-align: middle;\n",
              "    }\n",
              "\n",
              "    .dataframe tbody tr th {\n",
              "        vertical-align: top;\n",
              "    }\n",
              "\n",
              "    .dataframe thead th {\n",
              "        text-align: right;\n",
              "    }\n",
              "</style>\n",
              "<table border=\"1\" class=\"dataframe\">\n",
              "  <thead>\n",
              "    <tr style=\"text-align: right;\">\n",
              "      <th></th>\n",
              "      <th>ds</th>\n",
              "      <th>y</th>\n",
              "    </tr>\n",
              "  </thead>\n",
              "  <tbody>\n",
              "    <tr>\n",
              "      <th>0</th>\n",
              "      <td>2020-01-30</td>\n",
              "      <td>0</td>\n",
              "    </tr>\n",
              "    <tr>\n",
              "      <th>1</th>\n",
              "      <td>2020-01-31</td>\n",
              "      <td>0</td>\n",
              "    </tr>\n",
              "    <tr>\n",
              "      <th>2</th>\n",
              "      <td>2020-02-01</td>\n",
              "      <td>1</td>\n",
              "    </tr>\n",
              "    <tr>\n",
              "      <th>3</th>\n",
              "      <td>2020-02-02</td>\n",
              "      <td>1</td>\n",
              "    </tr>\n",
              "    <tr>\n",
              "      <th>4</th>\n",
              "      <td>2020-02-03</td>\n",
              "      <td>0</td>\n",
              "    </tr>\n",
              "    <tr>\n",
              "      <th>...</th>\n",
              "      <td>...</td>\n",
              "      <td>...</td>\n",
              "    </tr>\n",
              "    <tr>\n",
              "      <th>4687</th>\n",
              "      <td>2020-08-06</td>\n",
              "      <td>2092</td>\n",
              "    </tr>\n",
              "    <tr>\n",
              "      <th>4688</th>\n",
              "      <td>2020-08-06</td>\n",
              "      <td>97</td>\n",
              "    </tr>\n",
              "    <tr>\n",
              "      <th>4689</th>\n",
              "      <td>2020-08-06</td>\n",
              "      <td>4078</td>\n",
              "    </tr>\n",
              "    <tr>\n",
              "      <th>4690</th>\n",
              "      <td>2020-08-06</td>\n",
              "      <td>246</td>\n",
              "    </tr>\n",
              "    <tr>\n",
              "      <th>4691</th>\n",
              "      <td>2020-08-06</td>\n",
              "      <td>2816</td>\n",
              "    </tr>\n",
              "  </tbody>\n",
              "</table>\n",
              "<p>4692 rows × 2 columns</p>\n",
              "</div>"
            ],
            "text/plain": [
              "              ds     y\n",
              "0     2020-01-30     0\n",
              "1     2020-01-31     0\n",
              "2     2020-02-01     1\n",
              "3     2020-02-02     1\n",
              "4     2020-02-03     0\n",
              "...          ...   ...\n",
              "4687  2020-08-06  2092\n",
              "4688  2020-08-06    97\n",
              "4689  2020-08-06  4078\n",
              "4690  2020-08-06   246\n",
              "4691  2020-08-06  2816\n",
              "\n",
              "[4692 rows x 2 columns]"
            ]
          },
          "metadata": {
            "tags": []
          },
          "execution_count": 9
        }
      ]
    },
    {
      "cell_type": "code",
      "metadata": {
        "colab": {
          "base_uri": "https://localhost:8080/"
        },
        "id": "hgGDrfrXY0zt",
        "outputId": "400f54e6-2554-49de-e48d-e41f0c6616a2"
      },
      "source": [
        "df_new['ds'] = pd.to_datetime(df_new['ds'])\r\n",
        "df_new['y'] = df_new['y'].astype(int)\r\n",
        "df_new.info()"
      ],
      "execution_count": 10,
      "outputs": [
        {
          "output_type": "stream",
          "text": [
            "<class 'pandas.core.frame.DataFrame'>\n",
            "RangeIndex: 4692 entries, 0 to 4691\n",
            "Data columns (total 2 columns):\n",
            " #   Column  Non-Null Count  Dtype         \n",
            "---  ------  --------------  -----         \n",
            " 0   ds      4692 non-null   datetime64[ns]\n",
            " 1   y       4692 non-null   int64         \n",
            "dtypes: datetime64[ns](1), int64(1)\n",
            "memory usage: 73.4 KB\n"
          ],
          "name": "stdout"
        },
        {
          "output_type": "stream",
          "text": [
            "/usr/local/lib/python3.7/dist-packages/ipykernel_launcher.py:1: SettingWithCopyWarning:\n",
            "\n",
            "\n",
            "A value is trying to be set on a copy of a slice from a DataFrame.\n",
            "Try using .loc[row_indexer,col_indexer] = value instead\n",
            "\n",
            "See the caveats in the documentation: https://pandas.pydata.org/pandas-docs/stable/user_guide/indexing.html#returning-a-view-versus-a-copy\n",
            "\n",
            "/usr/local/lib/python3.7/dist-packages/ipykernel_launcher.py:2: SettingWithCopyWarning:\n",
            "\n",
            "\n",
            "A value is trying to be set on a copy of a slice from a DataFrame.\n",
            "Try using .loc[row_indexer,col_indexer] = value instead\n",
            "\n",
            "See the caveats in the documentation: https://pandas.pydata.org/pandas-docs/stable/user_guide/indexing.html#returning-a-view-versus-a-copy\n",
            "\n"
          ],
          "name": "stderr"
        }
      ]
    },
    {
      "cell_type": "code",
      "metadata": {
        "colab": {
          "base_uri": "https://localhost:8080/",
          "height": 306
        },
        "id": "WkknGIrnY4Wq",
        "outputId": "3aa45317-36a3-429d-9e64-9aa2701393a3"
      },
      "source": [
        "import matplotlib.pyplot as plt\r\n",
        "plt.figure(figsize=(20,5))\r\n",
        "plt.scatter(df_new['ds'],df_new['y'])\r\n",
        "plt.show()"
      ],
      "execution_count": 11,
      "outputs": [
        {
          "output_type": "display_data",
          "data": {
            "image/png": "[encoded data removed]",
            "text/plain": [
              "<Figure size 1440x360 with 1 Axes>"
            ]
          },
          "metadata": {
            "tags": [],
            "needs_background": "light"
          }
        }
      ]
    },
    {
      "cell_type": "code",
      "metadata": {
        "colab": {
          "base_uri": "https://localhost:8080/"
        },
        "id": "yxqItNQ8Wyz4",
        "outputId": "1dc56a4f-8e10-4cb0-a86a-8d80cfc660c5"
      },
      "source": [
        "import fbprophet\r\n",
        "\r\n",
        "op = fbprophet.Prophet(changepoint_prior_scale=1)\r\n",
        "op.fit(df_new)"
      ],
      "execution_count": 7,
      "outputs": [
        {
          "output_type": "stream",
          "text": [
            "INFO:fbprophet:Disabling yearly seasonality. Run prophet with yearly_seasonality=True to override this.\n",
            "INFO:fbprophet:Disabling daily seasonality. Run prophet with daily_seasonality=True to override this.\n"
          ],
          "name": "stderr"
        },
        {
          "output_type": "execute_result",
          "data": {
            "text/plain": [
              "<fbprophet.forecaster.Prophet at 0x7fc2ec2f2e50>"
            ]
          },
          "metadata": {
            "tags": []
          },
          "execution_count": 7
        }
      ]
    },
    {
      "cell_type": "code",
      "metadata": {
        "id": "IHz5I8owXoJj"
      },
      "source": [
        "forecast = op.make_future_dataframe(periods = 365 ,freq = 'D')\r\n",
        "forecast = op.predict(forecast)"
      ],
      "execution_count": 13,
      "outputs": []
    },
    {
      "cell_type": "code",
      "metadata": {
        "colab": {
          "base_uri": "https://localhost:8080/",
          "height": 441
        },
        "id": "N8OaHpHIX_gc",
        "outputId": "0f2903bb-2f7e-41c2-aa5f-b6adf724102a"
      },
      "source": [
        "op.plot(forecast,xlabel = 'Date',ylabel='New Cases');"
      ],
      "execution_count": 12,
      "outputs": [
        {
          "output_type": "display_data",
          "data": {
            "image/png": "[encoded data removed]",
            "text/plain": [
              "<Figure size 720x432 with 1 Axes>"
            ]
          },
          "metadata": {
            "tags": []
          }
        }
      ]
    },
    {
      "cell_type": "code",
      "metadata": {
        "id": "YffP7nkRZUzC"
      },
      "source": [
        ""
      ],
      "execution_count": null,
      "outputs": []
    }
  ]
}